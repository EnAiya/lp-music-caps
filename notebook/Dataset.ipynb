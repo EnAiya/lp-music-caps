{
 "cells": [
  {
   "cell_type": "code",
   "execution_count": 1,
   "id": "875eafb4",
   "metadata": {},
   "outputs": [],
   "source": [
    "import os\n",
    "import random\n",
    "from datasets import load_dataset"
   ]
  },
  {
   "cell_type": "code",
   "execution_count": 2,
   "id": "cb276983",
   "metadata": {},
   "outputs": [
    {
     "name": "stderr",
     "output_type": "stream",
     "text": [
      "Found cached dataset parquet (/root/.cache/huggingface/datasets/seungheondoh___parquet/seungheondoh--LP-MusicCaps-MSD-5006e357cd76a2a4/0.0.0/14a00e99c0d15a23649d0db8944380ac81082d4b021f398733dd84f3a6c569a7)\n"
     ]
    },
    {
     "data": {
      "application/json": {
       "ascii": false,
       "bar_format": null,
       "colour": null,
       "elapsed": 0.006303071975708008,
       "initial": 0,
       "n": 0,
       "ncols": null,
       "nrows": 21,
       "postfix": null,
       "prefix": "",
       "rate": null,
       "total": 3,
       "unit": "it",
       "unit_divisor": 1000,
       "unit_scale": false
      },
      "application/vnd.jupyter.widget-view+json": {
       "model_id": "9983deb9eec44af78be4b63515f83364",
       "version_major": 2,
       "version_minor": 0
      },
      "text/plain": [
       "  0%|          | 0/3 [00:00<?, ?it/s]"
      ]
     },
     "metadata": {},
     "output_type": "display_data"
    },
    {
     "data": {
      "text/plain": [
       "{'track_id': 'TRBAISB12903CF1054',\n",
       " 'title': 'Crushing Belial',\n",
       " 'artist_name': 'Shadows Fall',\n",
       " 'release': 'Of One Blood',\n",
       " 'year': 2000,\n",
       " 'tag': ['metalcore', 'heavy metal', 'pop rock'],\n",
       " 'caption_writing': 'This track combines the catchy hooks of pop rock with the aggressive energy of heavy metal and the intensity of metalcore.',\n",
       " 'caption_summary': 'This song blends pop rock, heavy metal, and metalcore elements together.',\n",
       " 'caption_paraphrase': 'This song blends the infectious hooks of pop rock with the powerful intensity of heavy metal and the aggressive edge of metalcore for a uniquely dynamic sound.',\n",
       " 'caption_attribute_prediction': 'This high-energy song combines elements of pop rock, heavy metal, and metalcore with the raw power of punk rock, the angst of grunge, and the introspection of emo to create a dynamic, genre-defying experience that will leave you breathless.',\n",
       " 'path': '8/1/8134074.clip.mp3'}"
      ]
     },
     "execution_count": 2,
     "metadata": {},
     "output_type": "execute_result"
    }
   ],
   "source": [
    "msd_dataset = load_dataset(\"seungheondoh/LP-MusicCaps-MSD\")\n",
    "random.choice(msd_dataset['test'])"
   ]
  },
  {
   "cell_type": "code",
   "execution_count": 3,
   "id": "59eff126",
   "metadata": {},
   "outputs": [
    {
     "name": "stderr",
     "output_type": "stream",
     "text": [
      "Found cached dataset parquet (/root/.cache/huggingface/datasets/seungheondoh___parquet/seungheondoh--LP-MusicCaps-MTT-edb1adf4a785452c/0.0.0/14a00e99c0d15a23649d0db8944380ac81082d4b021f398733dd84f3a6c569a7)\n"
     ]
    },
    {
     "data": {
      "application/json": {
       "ascii": false,
       "bar_format": null,
       "colour": null,
       "elapsed": 0.01391291618347168,
       "initial": 0,
       "n": 0,
       "ncols": null,
       "nrows": 21,
       "postfix": null,
       "prefix": "",
       "rate": null,
       "total": 3,
       "unit": "it",
       "unit_divisor": 1000,
       "unit_scale": false
      },
      "application/vnd.jupyter.widget-view+json": {
       "model_id": "f6b0a4ec037c45ce9e222c11f8dc1db7",
       "version_major": 2,
       "version_minor": 0
      },
      "text/plain": [
       "  0%|          | 0/3 [00:00<?, ?it/s]"
      ]
     },
     "metadata": {},
     "output_type": "display_data"
    },
    {
     "data": {
      "text/plain": [
       "{'track_id': '831',\n",
       " 'title': 'By Mourning',\n",
       " 'artist_name': 'Utopia Banished',\n",
       " 'release': 'Night of the Black Wyvern',\n",
       " 'tag_top50': ['metal'],\n",
       " 'tag_top188': ['metal'],\n",
       " 'caption_writing': 'This song is a powerful and aggressive metal anthem with thundering drums, screeching guitars, and raw vocals.',\n",
       " 'caption_summary': 'An intense, heavy and aggressive song with soaring guitar solos and growling vocals.',\n",
       " 'caption_paraphrase': \"This head-banging track boasts heavy guitar riffs and thunderous drums that are sure to satisfy any metalhead's craving for hard-hitting music.\",\n",
       " 'caption_attribute_prediction': 'With heavy guitar riffs and loud, intense vocals, this hard rock/metal song is both aggressive and dark. With elements of thrash, the screaming vocals and heavy use of guitar make for an intense, head-banging experience that is sure to satisfy any rock or metal fan.',\n",
       " 'pseudo_attribute': ['aggressive', 'dark', 'thrash', 'intense', 'screaming'],\n",
       " 'path': 'd/utopia_banished-night_of_the_black_wyvern-01-by_mourning-88-117.mp3'}"
      ]
     },
     "execution_count": 3,
     "metadata": {},
     "output_type": "execute_result"
    }
   ],
   "source": [
    "mtt_dataset = load_dataset(\"seungheondoh/LP-MusicCaps-MTT\")\n",
    "random.choice(mtt_dataset['test'])"
   ]
  },
  {
   "cell_type": "code",
   "execution_count": 4,
   "id": "b50b9c16",
   "metadata": {},
   "outputs": [
    {
     "name": "stderr",
     "output_type": "stream",
     "text": [
      "Found cached dataset parquet (/root/.cache/huggingface/datasets/seungheondoh___parquet/seungheondoh--LP-MusicCaps-MC-f8f142f0384d8844/0.0.0/14a00e99c0d15a23649d0db8944380ac81082d4b021f398733dd84f3a6c569a7)\n"
     ]
    },
    {
     "data": {
      "application/json": {
       "ascii": false,
       "bar_format": null,
       "colour": null,
       "elapsed": 0.01173543930053711,
       "initial": 0,
       "n": 0,
       "ncols": null,
       "nrows": 21,
       "postfix": null,
       "prefix": "",
       "rate": null,
       "total": 2,
       "unit": "it",
       "unit_divisor": 1000,
       "unit_scale": false
      },
      "application/vnd.jupyter.widget-view+json": {
       "model_id": "ae6585e54e2f4052853b734df5088a51",
       "version_major": 2,
       "version_minor": 0
      },
      "text/plain": [
       "  0%|          | 0/2 [00:00<?, ?it/s]"
      ]
     },
     "metadata": {},
     "output_type": "display_data"
    },
    {
     "data": {
      "text/plain": [
       "{'fname': '[4q6e_ZDFOZI]-[30-40]',\n",
       " 'ytid': '4q6e_ZDFOZI',\n",
       " 'aspect_list': ['female child vocal',\n",
       "  'jingle',\n",
       "  'strings',\n",
       "  'cello',\n",
       "  'wind chimes',\n",
       "  'male voice',\n",
       "  'spoken word',\n",
       "  'emotional',\n",
       "  'christmas'],\n",
       " 'caption_ground_truth': \"This is a Christmas themed jingle piece. There is a little girl singing sentimentally at a medium-to-high pitch. In the melodic background, treble strings play the tune while the cello holds the bass notes with rhythm. There is also a passing section of wind chimes. A male voice makes a brief comment over the girl's singing. This could be used in Christmas themed social media content.\",\n",
       " 'caption_writing': 'Featuring a beautiful female child vocal paired with festive jingles, stirring strings and soulful cello lines, delicate wind chimes and a moving male spoken word verse, this emotional Christmas song will add an exquisitely heartwarming touch to your holiday season.',\n",
       " 'caption_summary': 'A hauntingly emotional Christmas jingle featuring a female child vocal, accompanied by strings, cello, and wind chimes, interspersed with spoken word by a male voice.',\n",
       " 'caption_paraphrase': 'This heartwarming Christmas jingle featuring a youthful female vocal, soaring strings, gentle cello, and whimsical wind chimes is elevated by a poignant spoken word interlude from a male voice, resulting in an emotionally charged holiday classic.',\n",
       " 'caption_attribute_prediction': 'This emotional Christmas ballad features a beautiful female child vocal backed by a heartwarming choir, accompanied by delicate jingles and sparkling strings, including a poignant cello solo. A captivating wind chime melody adds to the enchanting atmosphere. A male voice recites spoken word interludes, adding to the overall sentimental vibe. The piano and harp blend together seamlessly, while the gentle bell chimes serve as a perfect finishing touch to this heartwarming holiday classic.',\n",
       " 'pseudo_attribute': ['choir', 'piano', 'harp', 'bells'],\n",
       " 'is_crawled': True,\n",
       " 'author_id': 9,\n",
       " 'start_s': 30,\n",
       " 'end_s': 40,\n",
       " 'audioset_positive_labels': '/m/04rlf,/t/dd00005',\n",
       " 'is_balanced_subset': False,\n",
       " 'is_audioset_eval': True}"
      ]
     },
     "execution_count": 4,
     "metadata": {},
     "output_type": "execute_result"
    }
   ],
   "source": [
    "mc_dataset = load_dataset(\"seungheondoh/LP-MusicCaps-MC\")\n",
    "random.choice(mc_dataset['test'])"
   ]
  },
  {
   "cell_type": "code",
   "execution_count": null,
   "id": "9c254fd7",
   "metadata": {},
   "outputs": [],
   "source": []
  },
  {
   "cell_type": "code",
   "execution_count": null,
   "id": "3a8d96e5",
   "metadata": {},
   "outputs": [],
   "source": []
  }
 ],
 "metadata": {
  "kernelspec": {
   "display_name": "Python 3 (ipykernel)",
   "language": "python",
   "name": "python3"
  },
  "language_info": {
   "codemirror_mode": {
    "name": "ipython",
    "version": 3
   },
   "file_extension": ".py",
   "mimetype": "text/x-python",
   "name": "python",
   "nbconvert_exporter": "python",
   "pygments_lexer": "ipython3",
   "version": "3.10.9"
  }
 },
 "nbformat": 4,
 "nbformat_minor": 5
}
